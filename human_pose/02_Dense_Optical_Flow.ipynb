{
 "cells": [
  {
   "cell_type": "code",
   "execution_count": 1,
   "metadata": {},
   "outputs": [
    {
     "ename": "error",
     "evalue": "OpenCV(3.4.2) c:\\miniconda3\\conda-bld\\opencv-suite_1534379934306\\work\\modules\\imgproc\\src\\color.hpp:253: error: (-215:Assertion failed) VScn::contains(scn) && VDcn::contains(dcn) && VDepth::contains(depth) in function 'cv::CvtHelper<struct cv::Set<3,4,-1>,struct cv::Set<1,-1,-1>,struct cv::Set<0,2,5>,2>::CvtHelper'\n",
     "output_type": "error",
     "traceback": [
      "\u001b[1;31m---------------------------------------------------------------------------\u001b[0m",
      "\u001b[1;31merror\u001b[0m                                     Traceback (most recent call last)",
      "\u001b[1;32m<ipython-input-1-1d41664a4fae>\u001b[0m in \u001b[0;36m<module>\u001b[1;34m\u001b[0m\n\u001b[0;32m     11\u001b[0m \u001b[1;33m\u001b[0m\u001b[0m\n\u001b[0;32m     12\u001b[0m \u001b[1;31m# Convert frame to Grayscale\u001b[0m\u001b[1;33m\u001b[0m\u001b[1;33m\u001b[0m\u001b[1;33m\u001b[0m\u001b[0m\n\u001b[1;32m---> 13\u001b[1;33m \u001b[0mprev_gray\u001b[0m\u001b[1;33m=\u001b[0m\u001b[0mcv2\u001b[0m\u001b[1;33m.\u001b[0m\u001b[0mcvtColor\u001b[0m\u001b[1;33m(\u001b[0m\u001b[0mfirst_frame\u001b[0m\u001b[1;33m,\u001b[0m\u001b[0mcv2\u001b[0m\u001b[1;33m.\u001b[0m\u001b[0mCOLOR_BGR2GRAY\u001b[0m\u001b[1;33m)\u001b[0m\u001b[1;33m\u001b[0m\u001b[1;33m\u001b[0m\u001b[0m\n\u001b[0m\u001b[0;32m     14\u001b[0m \u001b[1;33m\u001b[0m\u001b[0m\n\u001b[0;32m     15\u001b[0m \u001b[1;31m# Create# Create an image with the same dimensions as the frame for later drawing purposes\u001b[0m\u001b[1;33m\u001b[0m\u001b[1;33m\u001b[0m\u001b[1;33m\u001b[0m\u001b[0m\n",
      "\u001b[1;31merror\u001b[0m: OpenCV(3.4.2) c:\\miniconda3\\conda-bld\\opencv-suite_1534379934306\\work\\modules\\imgproc\\src\\color.hpp:253: error: (-215:Assertion failed) VScn::contains(scn) && VDcn::contains(dcn) && VDepth::contains(depth) in function 'cv::CvtHelper<struct cv::Set<3,4,-1>,struct cv::Set<1,-1,-1>,struct cv::Set<0,2,5>,2>::CvtHelper'\n"
     ]
    }
   ],
   "source": [
    "# Import Libraries\n",
    "import cv2\n",
    "import numpy as np \n",
    "\n",
    "\n",
    "# Video Capture\n",
    "cap=cv2.VideoCapture('Video/chaplin.mp4')\n",
    "\n",
    "# Read the capture and get the first frame\n",
    "ret,first_frame=cap.read()\n",
    "\n",
    "# Convert frame to Grayscale\n",
    "prev_gray=cv2.cvtColor(first_frame,cv2.COLOR_BGR2GRAY)\n",
    "\n",
    "# Create# Create an image with the same dimensions as the frame for later drawing purposes\n",
    "mask=np.zeros_like(first_frame)\n",
    "\n",
    "# Saturation to maximum\n",
    "mask[...,1]=255\n",
    "\n",
    "# While loop\n",
    "while(cap.isOpened()):\n",
    "\n",
    "    # Read the capture and get the first frame\n",
    "    ret,frame=cap.read()\n",
    "    \n",
    "    # Open new window and display the input frame\n",
    "    cv2.imshow('input',frame)\n",
    "    \n",
    "    # Convert all frame to Grayscale (previously we did only the first frame)\n",
    "    gray= cv2.cvtColor(frame,cv2.COLOR_BGR2GRAY)\n",
    "    \n",
    "    # Calculate dense optical flow by Farneback\n",
    "    flow=cv2.calcOpticalFlowFarneback(prev_gray,\n",
    "                                     gray,\n",
    "                                     None,\n",
    "                                     0.5,\n",
    "                                     3,\n",
    "                                     15,\n",
    "                                     3,\n",
    "                                     5,\n",
    "                                     1.2,\n",
    "                                     0)\n",
    "    \n",
    "    # Compute Magnitude and Angle\n",
    "    magn,angle=cv2.cartToPolar(flow[...,0],\n",
    "                               flow[...,1])\n",
    "    \n",
    "    # Set image hue depanding on the optical flow direction\n",
    "    mask[...,0]=angle*180/(np.pi/2)\n",
    "        \n",
    "    # Normalize the magnitude\n",
    "    mask[...,2] =cv2.normalize(magn,\n",
    "                              None,\n",
    "                              0,\n",
    "                              255,\n",
    "                              cv2.NORM_MINMAX)\n",
    "    \n",
    "    # Convert HSV to RGB\n",
    "    rgb=cv2.cvtColor(mask,cv2.COLOR_HSV2RGB)\n",
    "    \n",
    "    # Open new window and display the output\n",
    "    cv2.imshow('Dense Optical Flow',rgb)\n",
    "    \n",
    "    # Update previous frame\n",
    "    prev_gray=gray\n",
    "    \n",
    "    # Close the frame\n",
    "    if cv2.waitKey(30)& 0xFF == ord('q'):\n",
    "        break\n",
    "    \n",
    "# Release and Destroy\n",
    "cap.release()\n",
    "cv2.destroyAllWindows()\n",
    "\n"
   ]
  },
  {
   "cell_type": "code",
   "execution_count": null,
   "metadata": {},
   "outputs": [],
   "source": []
  }
 ],
 "metadata": {
  "kernelspec": {
   "display_name": "Python 3",
   "language": "python",
   "name": "python3"
  },
  "language_info": {
   "codemirror_mode": {
    "name": "ipython",
    "version": 3
   },
   "file_extension": ".py",
   "mimetype": "text/x-python",
   "name": "python",
   "nbconvert_exporter": "python",
   "pygments_lexer": "ipython3",
   "version": "3.7.9"
  }
 },
 "nbformat": 4,
 "nbformat_minor": 2
}
